{
  "nbformat": 4,
  "nbformat_minor": 0,
  "metadata": {
    "colab": {
      "name": "passat.ipynb",
      "provenance": [],
      "authorship_tag": "ABX9TyNv9yPJ8imAawXD2h9aX+Dw",
      "include_colab_link": true
    },
    "kernelspec": {
      "name": "python3",
      "display_name": "Python 3"
    },
    "language_info": {
      "name": "python"
    }
  },
  "cells": [
    {
      "cell_type": "markdown",
      "metadata": {
        "id": "view-in-github",
        "colab_type": "text"
      },
      "source": [
        "<a href=\"https://colab.research.google.com/github/ksknysn/BuyingCar/blob/main/passat.ipynb\" target=\"_parent\"><img src=\"https://colab.research.google.com/assets/colab-badge.svg\" alt=\"Open In Colab\"/></a>"
      ]
    },
    {
      "cell_type": "code",
      "execution_count": 1,
      "metadata": {
        "id": "_RWU_J16EFwS"
      },
      "outputs": [],
      "source": [
        "from bs4 import BeautifulSoup\n",
        "import requests\n",
        "import re\n",
        "import pandas as pd\n",
        "import numpy as np\n",
        "import matplotlib.pyplot as plt"
      ]
    },
    {
      "cell_type": "code",
      "source": [
        "#you should crawl webpages or download(i downloaded)\n",
        "with open(\"/content/sample_data/passat.html\") as fp:\n",
        "  soup = BeautifulSoup(fp, \"html.parser\")"
      ],
      "metadata": {
        "id": "FZ9J6o_ZEHur"
      },
      "execution_count": 3,
      "outputs": []
    },
    {
      "cell_type": "code",
      "source": [
        "#start to scrap the webpage\n",
        "table1 = soup.find_all(\"tr\",class_=\"searchResultsItem\")\n",
        "#fill an numpy array with car features\n",
        "veri2 = np.empty(shape=(1,6),dtype='<U4')"
      ],
      "metadata": {
        "id": "ExI8s9I_EKJY"
      },
      "execution_count": 4,
      "outputs": []
    },
    {
      "cell_type": "code",
      "source": [
        "#scrapping html table\n",
        "for row in table1:\n",
        "    #foto = row.find(\"td\",class_=\"searchResultsLargeThumbnail\")\n",
        "    #model = row.find(\"td\", class_=\"searchResultsTagAttributeValue\")\n",
        "    #ilan = row.find(\"td\", class_=\"searchResultsTitleValue\n",
        "    \n",
        "    try:\n",
        "        foto = row.find(\"td\",class_=\"searchResultsLargeThumbnail\")\n",
        "\n",
        "        ozellikler1 = row.find_all(\"td\",class_=\"searchResultsTagAttributeValue\")\n",
        "        marka = re.split(\"\\n\", ozellikler1[0].text)[1].replace(' ','')\n",
        "        seri = re.split(\"\\n\", ozellikler1[1].text)[1].replace(' ','')\n",
        "        model = re.split(\"\\n\", ozellikler1[2].text)[1].replace(' ','')\n",
        "\n",
        "        ilan = row.find(\"td\",class_=\"searchResultsTitleValue\").text\n",
        "        ilan = re.split(\"\\n\", ilan)\n",
        "\n",
        "        \n",
        "        #model = re.split(\"\\n\",model)[1].replace(' ','')\n",
        "        #ilan = row.find(\"td\",class_=\"searchResultsTitleValue\").text.encode(\"utf-8\")\n",
        "        \n",
        "\n",
        "        ozellikler2 = row.find_all(\"td\",class_=\"searchResultsAttributeValue\")\n",
        "        yil = int(re.split(\"\\n\",ozellikler2[0].text)[1].replace(' ',''))\n",
        "        km = int(re.split(\"\\n\",ozellikler2[1].text)[1][:-4].replace(' ',''))\n",
        "\n",
        "        \n",
        "        fiyat = row.find(\"td\", class_=\"searchResultsPriceValue\").text\n",
        "        fiyat = int(re.split(\"\\n\", fiyat)[1][:-7].replace('.',''))\n",
        "        \n",
        "    except:\n",
        "        None\n",
        "\n",
        "    \n",
        "    e = np.array([[marka, seri, model, yil, km, fiyat]])\n",
        "    c = np.vstack((veri2, e))\n",
        "    veri2 = c"
      ],
      "metadata": {
        "id": "L43rUA0OEPbj"
      },
      "execution_count": 5,
      "outputs": []
    },
    {
      "cell_type": "code",
      "source": [
        "#filled array list, we will create a pandas dataframe with this list\n",
        "veri2"
      ],
      "metadata": {
        "colab": {
          "base_uri": "https://localhost:8080/"
        },
        "id": "OmhWL9QRERZ_",
        "outputId": "763b0643-8f4f-411d-ca42-fd42ec2624e7"
      },
      "execution_count": 6,
      "outputs": [
        {
          "output_type": "execute_result",
          "data": {
            "text/plain": [
              "array([['', '', '', '', '', ''],\n",
              "       ['Volkswagen', 'Passat', '1.6TDIBlueMotionHighline', '2016',\n",
              "        '105', '607'],\n",
              "       ['Volkswagen', 'Passat', '2.0TDIBlueMotionHighline', '2013',\n",
              "        '192', '422'],\n",
              "       ['Volkswagen', 'Golf', '1.4TSIHighline', '2013', '135', '405'],\n",
              "       ['Volkswagen', 'Golf', '1.4TSIHighline', '2013', '135', '405'],\n",
              "       ['Volkswagen', 'Polo', '1.2TSIComfortline', '2017', '42', '297'],\n",
              "       ['Volkswagen', 'VWCC', '2.0TDI', '2012', '169', '298'],\n",
              "       ['Volkswagen', 'Passat', '1.6TDIBlueMotionTrendline', '2017',\n",
              "        '120', '437'],\n",
              "       ['Volkswagen', 'Passat', '1.6Exclusive', '2005', '176', '136'],\n",
              "       ['Volkswagen', 'Passat', '1.4TSIBlueMotionComfortline', '2017',\n",
              "        '33', '605'],\n",
              "       ['Volkswagen', 'Passat', '1.6TDIBlueMotionRLine', '2017', '108',\n",
              "        '642'],\n",
              "       ['Volkswagen', 'Passat', '1.6TDIBlueMotionComfortline', '2015',\n",
              "        '172', '510'],\n",
              "       ['Volkswagen', 'Passat', '1.6TDIBlueMotionHighline', '2017',\n",
              "        '163', '689'],\n",
              "       ['Volkswagen', 'Polo', '1.0TSIComfortline', '2017', '55', '362'],\n",
              "       ['Volkswagen', 'Passat', '1.6TDIBlueMotionHighline', '2015',\n",
              "        '185', '487'],\n",
              "       ['Volkswagen', 'Passat', '1.5TSIBusiness', '2020', '5', '715'],\n",
              "       ['Volkswagen', 'Passat', '1.4TSIBlueMotionHighline', '2016', '65',\n",
              "        '635'],\n",
              "       ['Volkswagen', 'Passat', '1.4TSIBlueMotionComfortline', '2014',\n",
              "        '104', '249'],\n",
              "       ['Volkswagen', 'Jetta', '1.6TDITrendline', '2014', '226', '209'],\n",
              "       ['Volkswagen', 'Jetta', '1.6TDITrendline', '2014', '138', '279'],\n",
              "       ['Volkswagen', 'Passat', '1.6TDIBlueMotionRLine', '2016', '118',\n",
              "        '683'],\n",
              "       ['Volkswagen', 'VWCC', '1.4TSISportline', '2013', '168', '415']],\n",
              "      dtype='<U27')"
            ]
          },
          "metadata": {},
          "execution_count": 6
        }
      ]
    },
    {
      "cell_type": "code",
      "source": [
        "#remove the first row while we added to creat numpy list\n",
        "veri2 = np.delete(veri2,0,0)\n",
        "#create pandas dataframe\n",
        "df = pd.DataFrame(veri2,columns=('marka','seri', 'model','yil','km','fiyat'))\n",
        "#convert to int some features to analyze\n",
        "df = df.astype({'yil':int, 'km':int, 'fiyat':int})"
      ],
      "metadata": {
        "id": "R1KU8HXgETLT"
      },
      "execution_count": 7,
      "outputs": []
    },
    {
      "cell_type": "code",
      "source": [
        "df.size"
      ],
      "metadata": {
        "colab": {
          "base_uri": "https://localhost:8080/"
        },
        "id": "1tHsJlrQEVHd",
        "outputId": "0095563b-889e-43f8-aa24-d44b9f7b0acd"
      },
      "execution_count": 8,
      "outputs": [
        {
          "output_type": "execute_result",
          "data": {
            "text/plain": [
              "126"
            ]
          },
          "metadata": {},
          "execution_count": 8
        }
      ]
    },
    {
      "cell_type": "code",
      "source": [
        "#filter just passat serial\n",
        "Passat = df.loc[df['seri'] == 'Passat']"
      ],
      "metadata": {
        "id": "UoFgwLA1EWvm"
      },
      "execution_count": 11,
      "outputs": []
    },
    {
      "cell_type": "code",
      "source": [
        "Passat.head()"
      ],
      "metadata": {
        "colab": {
          "base_uri": "https://localhost:8080/",
          "height": 206
        },
        "id": "0XkM0RLAEYMQ",
        "outputId": "2a24e193-c1f9-41dc-e68f-bc2bc587f79c"
      },
      "execution_count": 12,
      "outputs": [
        {
          "output_type": "execute_result",
          "data": {
            "text/html": [
              "<div>\n",
              "<style scoped>\n",
              "    .dataframe tbody tr th:only-of-type {\n",
              "        vertical-align: middle;\n",
              "    }\n",
              "\n",
              "    .dataframe tbody tr th {\n",
              "        vertical-align: top;\n",
              "    }\n",
              "\n",
              "    .dataframe thead th {\n",
              "        text-align: right;\n",
              "    }\n",
              "</style>\n",
              "<table border=\"1\" class=\"dataframe\">\n",
              "  <thead>\n",
              "    <tr style=\"text-align: right;\">\n",
              "      <th></th>\n",
              "      <th>marka</th>\n",
              "      <th>seri</th>\n",
              "      <th>model</th>\n",
              "      <th>yil</th>\n",
              "      <th>km</th>\n",
              "      <th>fiyat</th>\n",
              "    </tr>\n",
              "  </thead>\n",
              "  <tbody>\n",
              "    <tr>\n",
              "      <th>0</th>\n",
              "      <td>Volkswagen</td>\n",
              "      <td>Passat</td>\n",
              "      <td>1.6TDIBlueMotionHighline</td>\n",
              "      <td>2016</td>\n",
              "      <td>105</td>\n",
              "      <td>607</td>\n",
              "    </tr>\n",
              "    <tr>\n",
              "      <th>1</th>\n",
              "      <td>Volkswagen</td>\n",
              "      <td>Passat</td>\n",
              "      <td>2.0TDIBlueMotionHighline</td>\n",
              "      <td>2013</td>\n",
              "      <td>192</td>\n",
              "      <td>422</td>\n",
              "    </tr>\n",
              "    <tr>\n",
              "      <th>6</th>\n",
              "      <td>Volkswagen</td>\n",
              "      <td>Passat</td>\n",
              "      <td>1.6TDIBlueMotionTrendline</td>\n",
              "      <td>2017</td>\n",
              "      <td>120</td>\n",
              "      <td>437</td>\n",
              "    </tr>\n",
              "    <tr>\n",
              "      <th>7</th>\n",
              "      <td>Volkswagen</td>\n",
              "      <td>Passat</td>\n",
              "      <td>1.6Exclusive</td>\n",
              "      <td>2005</td>\n",
              "      <td>176</td>\n",
              "      <td>136</td>\n",
              "    </tr>\n",
              "    <tr>\n",
              "      <th>8</th>\n",
              "      <td>Volkswagen</td>\n",
              "      <td>Passat</td>\n",
              "      <td>1.4TSIBlueMotionComfortline</td>\n",
              "      <td>2017</td>\n",
              "      <td>33</td>\n",
              "      <td>605</td>\n",
              "    </tr>\n",
              "  </tbody>\n",
              "</table>\n",
              "</div>"
            ],
            "text/plain": [
              "        marka    seri                        model   yil   km  fiyat\n",
              "0  Volkswagen  Passat     1.6TDIBlueMotionHighline  2016  105    607\n",
              "1  Volkswagen  Passat     2.0TDIBlueMotionHighline  2013  192    422\n",
              "6  Volkswagen  Passat    1.6TDIBlueMotionTrendline  2017  120    437\n",
              "7  Volkswagen  Passat                 1.6Exclusive  2005  176    136\n",
              "8  Volkswagen  Passat  1.4TSIBlueMotionComfortline  2017   33    605"
            ]
          },
          "metadata": {},
          "execution_count": 12
        }
      ]
    },
    {
      "cell_type": "code",
      "source": [
        "#i choose the scatter plot\n",
        "Passat.plot.scatter(x='yil',y='km',s='fiyat')"
      ],
      "metadata": {
        "colab": {
          "base_uri": "https://localhost:8080/",
          "height": 301
        },
        "id": "cDUEg7weEaM8",
        "outputId": "27b13b5c-7a4d-4c69-8ea1-5b410478bf38"
      },
      "execution_count": 13,
      "outputs": [
        {
          "output_type": "execute_result",
          "data": {
            "text/plain": [
              "<matplotlib.axes._subplots.AxesSubplot at 0x7fb3d4b8a3d0>"
            ]
          },
          "metadata": {},
          "execution_count": 13
        },
        {
          "output_type": "display_data",
          "data": {
            "image/png": "[encoded data removed]",
            "text/plain": [
              "<Figure size 432x288 with 1 Axes>"
            ]
          },
          "metadata": {
            "needs_background": "light"
          }
        }
      ]
    },
    {
      "cell_type": "markdown",
      "source": [
        "conclusion: you an see a car that is the second lowest price while its model is newer than two car and its km is lower than more than 7 cars. so you can choose that car to buy after looking other qualifications(like accidents etc.)"
      ],
      "metadata": {
        "id": "687d2i2aEk4i"
      }
    },
    {
      "cell_type": "code",
      "source": [
        "print(Passat.loc[Passat['yil']==2013])\n",
        "print(Passat.loc[Passat['yil']==2014])"
      ],
      "metadata": {
        "colab": {
          "base_uri": "https://localhost:8080/"
        },
        "id": "CqlRsXneEi-L",
        "outputId": "8f8879b1-47e1-4e2c-c7ea-0d44b9cd6838"
      },
      "execution_count": 17,
      "outputs": [
        {
          "output_type": "stream",
          "name": "stdout",
          "text": [
            "        marka    seri                     model   yil   km  fiyat\n",
            "1  Volkswagen  Passat  2.0TDIBlueMotionHighline  2013  192    422\n",
            "         marka    seri                        model   yil   km  fiyat\n",
            "16  Volkswagen  Passat  1.4TSIBlueMotionComfortline  2014  104    249\n"
          ]
        }
      ]
    },
    {
      "cell_type": "markdown",
      "source": [
        "First car is 2013, 192 km and 422k but the second one is 2014, 104 km and 249k. So, we should choose the second one. shouldn't we?"
      ],
      "metadata": {
        "id": "HDyvHcIlE-4w"
      }
    },
    {
      "cell_type": "code",
      "source": [
        ""
      ],
      "metadata": {
        "id": "Tef-N9AIFLQ0"
      },
      "execution_count": null,
      "outputs": []
    }
  ]
}
